{
 "cells": [
  {
   "cell_type": "code",
   "execution_count": 1,
   "id": "8daaa55a",
   "metadata": {},
   "outputs": [],
   "source": [
    "#Implementing basic mathematical operations (addition, subtraction, multiplication) using NumPy arrays.\n"
   ]
  },
  {
   "cell_type": "code",
   "execution_count": 2,
   "id": "1bc5c561",
   "metadata": {},
   "outputs": [],
   "source": [
    "import numpy as np"
   ]
  },
  {
   "cell_type": "code",
   "execution_count": 3,
   "id": "4e267d5d",
   "metadata": {},
   "outputs": [],
   "source": [
    "a=np.array([1,2,3])"
   ]
  },
  {
   "cell_type": "code",
   "execution_count": 4,
   "id": "506dd548",
   "metadata": {},
   "outputs": [],
   "source": [
    "b=np.array([4,5,6])"
   ]
  },
  {
   "cell_type": "code",
   "execution_count": 5,
   "id": "536fe80b",
   "metadata": {},
   "outputs": [],
   "source": [
    "addition_np=np.add(a,b)"
   ]
  },
  {
   "cell_type": "code",
   "execution_count": 6,
   "id": "1eb71d5b",
   "metadata": {},
   "outputs": [
    {
     "data": {
      "text/plain": [
       "array([5, 7, 9])"
      ]
     },
     "execution_count": 6,
     "metadata": {},
     "output_type": "execute_result"
    }
   ],
   "source": [
    "addition_np"
   ]
  },
  {
   "cell_type": "code",
   "execution_count": 10,
   "id": "afca543b",
   "metadata": {},
   "outputs": [],
   "source": [
    "subtraction_result = np.subtract(a, b)"
   ]
  },
  {
   "cell_type": "code",
   "execution_count": 11,
   "id": "981d33a5",
   "metadata": {},
   "outputs": [
    {
     "data": {
      "text/plain": [
       "array([-3, -3, -3])"
      ]
     },
     "execution_count": 11,
     "metadata": {},
     "output_type": "execute_result"
    }
   ],
   "source": [
    "subtraction_result"
   ]
  },
  {
   "cell_type": "code",
   "execution_count": 12,
   "id": "cbc432a9",
   "metadata": {},
   "outputs": [],
   "source": [
    "mul_result=np.multiply(a, b)"
   ]
  },
  {
   "cell_type": "code",
   "execution_count": 13,
   "id": "5ff57877",
   "metadata": {},
   "outputs": [
    {
     "data": {
      "text/plain": [
       "array([ 4, 10, 18])"
      ]
     },
     "execution_count": 13,
     "metadata": {},
     "output_type": "execute_result"
    }
   ],
   "source": [
    "mul_result"
   ]
  },
  {
   "cell_type": "code",
   "execution_count": null,
   "id": "d4dbb70e",
   "metadata": {},
   "outputs": [],
   "source": []
  },
  {
   "cell_type": "code",
   "execution_count": null,
   "id": "6f913ce2",
   "metadata": {},
   "outputs": [],
   "source": []
  }
 ],
 "metadata": {
  "kernelspec": {
   "display_name": "Python 3 (ipykernel)",
   "language": "python",
   "name": "python3"
  },
  "language_info": {
   "codemirror_mode": {
    "name": "ipython",
    "version": 3
   },
   "file_extension": ".py",
   "mimetype": "text/x-python",
   "name": "python",
   "nbconvert_exporter": "python",
   "pygments_lexer": "ipython3",
   "version": "3.11.3"
  }
 },
 "nbformat": 4,
 "nbformat_minor": 5
}
